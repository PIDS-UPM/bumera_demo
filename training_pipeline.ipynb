{
 "cells": [
  {
   "cell_type": "code",
   "execution_count": 1,
   "metadata": {
    "id": "XRkrKJimktM1"
   },
   "outputs": [],
   "source": [
    "import os\n",
    "import numpy as np\n",
    "from sklearn.model_selection import train_test_split\n",
    "from tensorflow.keras.preprocessing.image import ImageDataGenerator, load_img, img_to_array\n",
    "from tensorflow.keras.applications.vgg16 import preprocess_input"
   ]
  },
  {
   "cell_type": "markdown",
   "metadata": {
    "id": "ITgmBPcedfDT"
   },
   "source": [
    "# CODIGO PARA PREPROCESADO Y DIVISÓN EN TRAIN,TEST Y VALIDACIÓN\n"
   ]
  },
  {
   "cell_type": "code",
   "execution_count": 2,
   "metadata": {
    "id": "H8MD7b8huqHi"
   },
   "outputs": [
    {
     "data": {
      "text/plain": [
       "\"\\nfor video_folder in os.listdir(violence_dir):\\n    video_folder_path = os.path.join(violence_dir, video_folder)\\n    for frame in os.listdir(video_folder_path):\\n        frame_path = os.path.join(video_folder_path, frame)\\n        violence_frames.append(frame_path)\\n        break\\n\\nfor video_folder in os.listdir(nonviolence_dir):\\n    video_folder_path = os.path.join(nonviolence_dir, video_folder)\\n    for frame in os.listdir(video_folder_path):\\n        frame_path = os.path.join(video_folder_path, frame)\\n        nonviolence_frames.append(frame_path)\\n        break\\n\\n# Etiquetas '0': nonviolence y '1':violence\\nlabels_violence = [1] * len(violence_frames)\\nlabels_nonviolence = [0] * len(nonviolence_frames)\\n\\nimage_paths = violence_frames + nonviolence_frames\\nlabels = labels_violence + labels_nonviolence\\n\\n# Dividir los datos en entrenamiento, validación y prueba con estratificación\\n\\n#División en train y test\\ntrain_paths, temp_test_paths, train_labels, temp_test_labels = train_test_split(\\n    image_paths, labels, test_size=0.3, stratify=labels\\n)\\n\\n#División de test en test y validation\\nval_paths, test_paths, val_labels, test_labels = train_test_split(\\n    temp_test_paths, temp_test_labels, test_size=2/3, stratify=temp_test_labels\\n)\\n\""
      ]
     },
     "execution_count": 2,
     "metadata": {},
     "output_type": "execute_result"
    }
   ],
   "source": [
    "#Directorio base\n",
    "base_dir = 'poses_images'\n",
    "\n",
    "#Carpetas de violencia y no violencia\n",
    "violence_dir = os.path.join(base_dir, 'Violence')\n",
    "nonviolence_dir = os.path.join(base_dir, 'NonViolence')\n",
    "\n",
    "#Listas para alamcenar los frames\n",
    "violence_frames=[]\n",
    "nonviolence_frames=[]\n",
    "\n",
    "'''\n",
    "for video_folder in os.listdir(violence_dir):\n",
    "    video_folder_path = os.path.join(violence_dir, video_folder)\n",
    "    for frame in os.listdir(video_folder_path):\n",
    "        frame_path = os.path.join(video_folder_path, frame)\n",
    "        violence_frames.append(frame_path)\n",
    "        break\n",
    "\n",
    "for video_folder in os.listdir(nonviolence_dir):\n",
    "    video_folder_path = os.path.join(nonviolence_dir, video_folder)\n",
    "    for frame in os.listdir(video_folder_path):\n",
    "        frame_path = os.path.join(video_folder_path, frame)\n",
    "        nonviolence_frames.append(frame_path)\n",
    "        break\n",
    "\n",
    "# Etiquetas '0': nonviolence y '1':violence\n",
    "labels_violence = [1] * len(violence_frames)\n",
    "labels_nonviolence = [0] * len(nonviolence_frames)\n",
    "\n",
    "image_paths = violence_frames + nonviolence_frames\n",
    "labels = labels_violence + labels_nonviolence\n",
    "\n",
    "# Dividir los datos en entrenamiento, validación y prueba con estratificación\n",
    "\n",
    "#División en train y test\n",
    "train_paths, temp_test_paths, train_labels, temp_test_labels = train_test_split(\n",
    "    image_paths, labels, test_size=0.3, stratify=labels\n",
    ")\n",
    "\n",
    "#División de test en test y validation\n",
    "val_paths, test_paths, val_labels, test_labels = train_test_split(\n",
    "    temp_test_paths, temp_test_labels, test_size=2/3, stratify=temp_test_labels\n",
    ")\n",
    "'''"
   ]
  },
  {
   "cell_type": "code",
   "execution_count": 3,
   "metadata": {},
   "outputs": [],
   "source": [
    "violence_videos = os.listdir(violence_dir)\n",
    "labels_violence = [1] * len(violence_videos)\n",
    "nonviolence_videos = os.listdir(nonviolence_dir)\n",
    "labels_nonviolence = [0] * len(nonviolence_videos)\n",
    "labels = labels_violence + labels_nonviolence\n",
    "train_val, test, train_val_labels, test_labels = train_test_split(violence_videos+nonviolence_videos, labels, test_size=.1, stratify=labels, shuffle=True)\n",
    "train, validate, train_labels, validate_labels = train_test_split(train_val, train_val_labels, test_size=0.2, stratify=train_val_labels, shuffle=True)"
   ]
  },
  {
   "cell_type": "code",
   "execution_count": 4,
   "metadata": {},
   "outputs": [],
   "source": [
    "train_dataset = [\n",
    "    os.path.join(\n",
    "        violence_dir if train_labels[i] == 1 else nonviolence_dir, video, frame\n",
    "    )\n",
    "    for i, video in enumerate(train)\n",
    "    for frame in os.listdir(\n",
    "        os.path.join(violence_dir if train_labels[i] == 1 else nonviolence_dir, video)\n",
    "    )\n",
    "]\n",
    "\n",
    "train_labels = [0 if 'NonViolence' in frame else 1 for frame in train_dataset]"
   ]
  },
  {
   "cell_type": "code",
   "execution_count": 5,
   "metadata": {
    "id": "EBc_btQRdJeU"
   },
   "outputs": [],
   "source": [
    "validate_dataset = [\n",
    "    os.path.join(\n",
    "        violence_dir if validate_labels[i] == 1 else nonviolence_dir, video, frame\n",
    "    )\n",
    "    for i, video in enumerate(validate)\n",
    "    for frame in os.listdir(\n",
    "        os.path.join(violence_dir if validate_labels[i] == 1 else nonviolence_dir, video)\n",
    "    )\n",
    "]\n",
    "\n",
    "validate_labels = [0 if 'NonViolence' in frame else 1 for frame in validate_dataset]"
   ]
  },
  {
   "cell_type": "code",
   "execution_count": 6,
   "metadata": {
    "id": "snqIkFB9dSP8"
   },
   "outputs": [],
   "source": [
    "test_dataset = [\n",
    "    os.path.join(\n",
    "        violence_dir if test_labels[i] == 1 else nonviolence_dir, video, frame\n",
    "    )\n",
    "    for i, video in enumerate(test)\n",
    "    for frame in os.listdir(\n",
    "        os.path.join(violence_dir if test_labels[i] == 1 else nonviolence_dir, video)\n",
    "    )\n",
    "]\n",
    "\n",
    "test_labels = [0 if 'NonViolence' in frame else 1 for frame in test_dataset]"
   ]
  },
  {
   "cell_type": "code",
   "execution_count": 7,
   "metadata": {
    "id": "1sAupEyVft9F"
   },
   "outputs": [],
   "source": [
    "#Función de preprocesamiento\n",
    "def load_and_preprocess_image(image_path):\n",
    "    image = load_img(image_path, target_size=(224, 224))  # Redimensionar a 224x224. Los frames ya están guardados en esa dimensión pero por si acaso\n",
    "    image = img_to_array(image)\n",
    "    image = preprocess_input(image)  # Normalización para VGG16\n",
    "    return image"
   ]
  },
  {
   "cell_type": "code",
   "execution_count": 8,
   "metadata": {
    "id": "UC5NHPFigvPt"
   },
   "outputs": [],
   "source": [
    "train_images = np.array([load_and_preprocess_image(img_path) for img_path in train_dataset])\n",
    "val_images = np.array([load_and_preprocess_image(img_path) for img_path in validate_dataset])\n",
    "test_images = np.array([load_and_preprocess_image(img_path) for img_path in test_dataset])"
   ]
  },
  {
   "cell_type": "code",
   "execution_count": 9,
   "metadata": {
    "id": "kvn6vgQRhSqF"
   },
   "outputs": [],
   "source": [
    "# Convertir las etiquetas a arrays\n",
    "train_labels = np.array(train_labels)\n",
    "val_labels = np.array(validate_labels)\n",
    "test_labels = np.array(test_labels)"
   ]
  },
  {
   "cell_type": "markdown",
   "metadata": {
    "id": "WWW7JZvNh06M"
   },
   "source": [
    "# CARGA DEL MODELO VGG16 SIN LA CAPA SUPERIOR (CAPA DE CLASIFICACIÓN QUE AÑADIMOS)"
   ]
  },
  {
   "cell_type": "code",
   "execution_count": 10,
   "metadata": {
    "id": "heVHE-51h9tS"
   },
   "outputs": [],
   "source": [
    "from tensorflow.keras.models import Sequential\n",
    "from tensorflow.keras.layers import Flatten, Dense, Dropout\n",
    "from tensorflow.keras.applications import VGG16"
   ]
  },
  {
   "cell_type": "code",
   "execution_count": 11,
   "metadata": {
    "id": "AtXEjfyEiAss"
   },
   "outputs": [
    {
     "name": "stdout",
     "output_type": "stream",
     "text": [
      "Model: \"sequential\"\n",
      "_________________________________________________________________\n",
      " Layer (type)                Output Shape              Param #   \n",
      "=================================================================\n",
      " vgg16 (Functional)          (None, 7, 7, 512)         14714688  \n",
      "                                                                 \n",
      " flatten (Flatten)           (None, 25088)             0         \n",
      "                                                                 \n",
      " dense (Dense)               (None, 512)               12845568  \n",
      "                                                                 \n",
      " dropout (Dropout)           (None, 512)               0         \n",
      "                                                                 \n",
      " dense_1 (Dense)             (None, 1)                 513       \n",
      "                                                                 \n",
      "=================================================================\n",
      "Total params: 27,560,769\n",
      "Trainable params: 12,846,081\n",
      "Non-trainable params: 14,714,688\n",
      "_________________________________________________________________\n"
     ]
    }
   ],
   "source": [
    "# Cargar el modelo VGG16 preentrenado sin la capa superior\n",
    "base_model = VGG16(weights='imagenet', include_top=False, input_shape=(224, 224, 3))\n",
    "\n",
    "# Congelar las capas del modelo base\n",
    "base_model.trainable = False\n",
    "\n",
    "model=Sequential()\n",
    "model.add(base_model)\n",
    "\n",
    "model.add(Flatten())\n",
    "model.add(Dense(512,activation='relu'))\n",
    "model.add(Dropout(0.5))\n",
    "model.add(Dense(1, activation='sigmoid')) #Clasificación binaria (violence or nonviolence)\n",
    "\n",
    "model.compile(optimizer='adam', loss='binary_crossentropy', metrics=['accuracy'])\n",
    "\n",
    "model.summary()"
   ]
  },
  {
   "cell_type": "code",
   "execution_count": 12,
   "metadata": {
    "id": "lJC9CKuPnu32"
   },
   "outputs": [
    {
     "name": "stdout",
     "output_type": "stream",
     "text": [
      "Epoch 1/10\n",
      "86/86 [==============================] - 25s 176ms/step - loss: 9.5016 - accuracy: 0.7924 - val_loss: 3.1788 - val_accuracy: 0.7418\n",
      "Epoch 2/10\n",
      "86/86 [==============================] - 11s 134ms/step - loss: 0.6647 - accuracy: 0.8903 - val_loss: 0.7934 - val_accuracy: 0.8160\n",
      "Epoch 3/10\n",
      "86/86 [==============================] - 11s 134ms/step - loss: 0.2497 - accuracy: 0.9299 - val_loss: 0.9295 - val_accuracy: 0.8086\n",
      "Epoch 4/10\n",
      "86/86 [==============================] - 12s 134ms/step - loss: 0.1780 - accuracy: 0.9435 - val_loss: 0.9010 - val_accuracy: 0.8190\n",
      "Epoch 5/10\n",
      "86/86 [==============================] - 12s 135ms/step - loss: 0.1966 - accuracy: 0.9468 - val_loss: 0.8817 - val_accuracy: 0.8116\n",
      "Epoch 6/10\n",
      "86/86 [==============================] - 11s 134ms/step - loss: 0.1628 - accuracy: 0.9472 - val_loss: 0.9009 - val_accuracy: 0.8160\n",
      "Epoch 7/10\n",
      "86/86 [==============================] - 12s 134ms/step - loss: 0.1224 - accuracy: 0.9563 - val_loss: 0.8071 - val_accuracy: 0.8368\n",
      "Epoch 8/10\n",
      "86/86 [==============================] - 11s 134ms/step - loss: 0.0986 - accuracy: 0.9677 - val_loss: 0.8616 - val_accuracy: 0.8264\n",
      "Epoch 9/10\n",
      "86/86 [==============================] - 11s 133ms/step - loss: 0.1292 - accuracy: 0.9593 - val_loss: 0.9324 - val_accuracy: 0.8249\n",
      "Epoch 10/10\n",
      "86/86 [==============================] - 11s 133ms/step - loss: 0.2017 - accuracy: 0.9527 - val_loss: 1.1151 - val_accuracy: 0.8353\n"
     ]
    }
   ],
   "source": [
    "history = model.fit(\n",
    "    train_images,\n",
    "    train_labels,\n",
    "    batch_size=32,\n",
    "    epochs=10,\n",
    "    validation_data=(val_images, val_labels)\n",
    ")"
   ]
  },
  {
   "cell_type": "code",
   "execution_count": 13,
   "metadata": {
    "id": "c5ha5LpBtjrC"
   },
   "outputs": [
    {
     "name": "stdout",
     "output_type": "stream",
     "text": [
      "12/12 [==============================] - 3s 282ms/step - loss: 1.2960 - accuracy: 0.7701\n",
      "Test accuracy: 0.7701\n"
     ]
    }
   ],
   "source": [
    "# Evaluar en el conjunto de prueba\n",
    "test_loss, test_accuracy = model.evaluate(test_images, test_labels)\n",
    "print(f\"Test accuracy: {test_accuracy:.4f}\")"
   ]
  },
  {
   "cell_type": "code",
   "execution_count": 14,
   "metadata": {
    "id": "dYsRD56qtoD3"
   },
   "outputs": [
    {
     "data": {
      "text/plain": [
       "\"\\n# Save weights\\nmodel.save_weights(file_weights)\\n\\n# Save history\\nwith open(file_history, 'w') as f:\\n    json.dump(history.history, f)\\n\""
      ]
     },
     "execution_count": 14,
     "metadata": {},
     "output_type": "execute_result"
    }
   ],
   "source": [
    "\"\"\"\n",
    "# Save weights\n",
    "model.save_weights(file_weights)\n",
    "\n",
    "# Save history\n",
    "with open(file_history, 'w') as f:\n",
    "    json.dump(history.history, f)\n",
    "\"\"\""
   ]
  },
  {
   "cell_type": "code",
   "execution_count": 15,
   "metadata": {
    "id": "WPtGYpBNtkNr"
   },
   "outputs": [
    {
     "data": {
      "text/plain": [
       "'\\n# 1. Load history\\nwith open(file_history, \"rb\") as f:\\n    history = json.load(f)\\n\\n# 2. Plot loss\\nplt.figure()\\nnum_epochs = len(history[\\'loss\\'])\\nplt.plot(range(1, num_epochs + 1), history[\\'loss\\'])\\nplt.plot(range(1, num_epochs + 1), history[\\'val_loss\\'])\\nplt.title(\\'Loss (cross-entropy)\\')\\nplt.ylabel(\\'Loss\\')\\nplt.xlabel(\\'Epoch\\')\\nplt.legend([\\'Train\\', \\'Test\\'], loc=\\'upper right\\')\\nmax_loss = 1.1*max(history[\\'loss\\'] + history[\\'val_loss\\'])\\nplt.ylim([0, max_loss])\\nplt.savefig(fig_results_loss)\\nplt.show()\\n\\n# 3. Plot accuracy\\nplt.figure()\\nplt.plot(range(1, num_epochs + 1), 100*np.array(history[\\'accuracy\\']))\\nplt.plot(range(1, num_epochs + 1), 100*np.array(history[\\'val_accuracy\\']))\\nplt.title(\\'Accuracy\\')\\nplt.ylabel(\\'Accuracy (%)\\')\\nplt.xlabel(\\'Epoch\\')\\nplt.legend([\\'Train\\', \\'Test\\'], loc=\\'upper left\\')\\nplt.ylim([0, 100.0])\\nplt.savefig(fig_results_accuracy)\\nplt.show()\\n'"
      ]
     },
     "execution_count": 15,
     "metadata": {},
     "output_type": "execute_result"
    }
   ],
   "source": [
    "\"\"\"\n",
    "# 1. Load history\n",
    "with open(file_history, \"rb\") as f:\n",
    "    history = json.load(f)\n",
    "\n",
    "# 2. Plot loss\n",
    "plt.figure()\n",
    "num_epochs = len(history['loss'])\n",
    "plt.plot(range(1, num_epochs + 1), history['loss'])\n",
    "plt.plot(range(1, num_epochs + 1), history['val_loss'])\n",
    "plt.title('Loss (cross-entropy)')\n",
    "plt.ylabel('Loss')\n",
    "plt.xlabel('Epoch')\n",
    "plt.legend(['Train', 'Test'], loc='upper right')\n",
    "max_loss = 1.1*max(history['loss'] + history['val_loss'])\n",
    "plt.ylim([0, max_loss])\n",
    "plt.savefig(fig_results_loss)\n",
    "plt.show()\n",
    "\n",
    "# 3. Plot accuracy\n",
    "plt.figure()\n",
    "plt.plot(range(1, num_epochs + 1), 100*np.array(history['accuracy']))\n",
    "plt.plot(range(1, num_epochs + 1), 100*np.array(history['val_accuracy']))\n",
    "plt.title('Accuracy')\n",
    "plt.ylabel('Accuracy (%)')\n",
    "plt.xlabel('Epoch')\n",
    "plt.legend(['Train', 'Test'], loc='upper left')\n",
    "plt.ylim([0, 100.0])\n",
    "plt.savefig(fig_results_accuracy)\n",
    "plt.show()\n",
    "\"\"\""
   ]
  },
  {
   "cell_type": "code",
   "execution_count": 16,
   "metadata": {
    "id": "Bi5NxJpBwBki"
   },
   "outputs": [],
   "source": [
    "import numpy as np\n",
    "import matplotlib.pyplot as plt\n",
    "from sklearn.metrics import confusion_matrix, ConfusionMatrixDisplay"
   ]
  },
  {
   "cell_type": "code",
   "execution_count": 17,
   "metadata": {
    "id": "N464SI8kv6zp"
   },
   "outputs": [
    {
     "name": "stdout",
     "output_type": "stream",
     "text": [
      "22/22 [==============================] - 3s 109ms/step\n"
     ]
    },
    {
     "data": {
      "image/png": "[encoded data removed]",
      "text/plain": [
       "<Figure size 640x480 with 2 Axes>"
      ]
     },
     "metadata": {},
     "output_type": "display_data"
    }
   ],
   "source": [
    "# Obtener predicciones del modelo en el conjunto de prueba\n",
    "val_predictions = model.predict(val_images)\n",
    "val_predictions = (val_predictions > 0.85).astype(int)  # Convertir probabilidades a 0 o 1\n",
    "\n",
    "# Calcular la matriz de confusión\n",
    "cm = confusion_matrix(val_labels, val_predictions)\n",
    "\n",
    "# Mostrar la matriz de confusión con etiquetas claras\n",
    "disp = ConfusionMatrixDisplay(confusion_matrix=cm, display_labels=[\"NonViolence\", \"Violence\"])\n",
    "disp.plot(cmap=plt.cm.Blues)\n",
    "plt.title(\"Matriz de Confusión\")\n",
    "plt.show()"
   ]
  },
  {
   "cell_type": "markdown",
   "metadata": {},
   "source": [
    "---"
   ]
  },
  {
   "cell_type": "code",
   "execution_count": 35,
   "metadata": {},
   "outputs": [
    {
     "name": "stdout",
     "output_type": "stream",
     "text": [
      "1/1 [==============================] - 0s 40ms/step\n",
      "[0.]\n",
      "[0.]\n",
      "[0.]\n",
      "[0.]\n",
      "[0.]\n",
      "[0.]\n",
      "[0.]\n",
      "[0.]\n",
      "[0.]\n",
      "[0.]\n",
      "[0.02]\n",
      "[0.]\n",
      "[0.01]\n",
      "[0.17]\n",
      "[0.]\n",
      "[0.01]\n",
      "[0.]\n",
      "[0.]\n",
      "[0.]\n",
      "[0.]\n"
     ]
    }
   ],
   "source": [
    "# Our validation video\n",
    "final_val_path = os.path.join('poses_images', 'Validation', 'video_1')\n",
    "data = os.listdir(final_val_path)\n",
    "data = [os.path.join(final_val_path, d) for d in data]\n",
    "final = np.array([load_and_preprocess_image(img_path) for img_path in data])\n",
    "preds = model.predict(final)\n",
    "for prediction in preds:\n",
    "    print(np.round(prediction, 2))"
   ]
  }
 ],
 "metadata": {
  "colab": {
   "provenance": []
  },
  "kernelspec": {
   "display_name": "tf_gpu",
   "language": "python",
   "name": "python3"
  },
  "language_info": {
   "codemirror_mode": {
    "name": "ipython",
    "version": 3
   },
   "file_extension": ".py",
   "mimetype": "text/x-python",
   "name": "python",
   "nbconvert_exporter": "python",
   "pygments_lexer": "ipython3",
   "version": "3.10.14"
  }
 },
 "nbformat": 4,
 "nbformat_minor": 0
}
